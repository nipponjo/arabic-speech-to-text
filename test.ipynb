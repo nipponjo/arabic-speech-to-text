{
 "cells": [
  {
   "cell_type": "code",
   "execution_count": null,
   "metadata": {},
   "outputs": [],
   "source": [
    "import torchaudio\n",
    "from nemo.collections.asr.models import EncDecCTCModel\n",
    "\n",
    "from utils import stt\n",
    "import IPython"
   ]
  },
  {
   "cell_type": "code",
   "execution_count": null,
   "metadata": {},
   "outputs": [],
   "source": [
    "checkpoint = './checkpoints/exp0/states_val_loss=19.79108.ckpt'\n",
    "hparams_file = './configs/hparams.yaml'\n",
    "device = 'cuda'\n",
    "\n",
    "model = EncDecCTCModel.load_from_checkpoint(\n",
    "    checkpoint, hparams_file=hparams_file)\n",
    "model = model.to(device)\n",
    "model.eval();"
   ]
  },
  {
   "cell_type": "code",
   "execution_count": null,
   "metadata": {},
   "outputs": [],
   "source": [
    "audio_path = './data/test_waves/static1.wav'\n",
    "\n",
    "audio, sr = torchaudio.load(audio_path)\n",
    "audio = audio.to(device)\n",
    "if sr != 16000:\n",
    "    audio = torchaudio.functional.resample(audio, sr, 16000)\n",
    "audio /= audio.abs().max()\n",
    "audio.squeeze_(0)\n",
    "\n",
    "text_pred = stt(model, audio)\n",
    "\n",
    "IPython.display.display(\n",
    "    IPython.display.Audio(data=0.5*audio.cpu(), rate=16000, normalize=False),\n",
    ")\n",
    "print(text_pred)\n"
   ]
  },
  {
   "cell_type": "code",
   "execution_count": null,
   "metadata": {},
   "outputs": [],
   "source": [
    "import torch\n",
    "import matplotlib.pyplot as plt\n",
    "from utils.letters import letters_ds_voc\n",
    "\n",
    "signal_len = torch.LongTensor([len(audio)]).to(audio.device)\n",
    "mel, _ = model.preprocessor.get_features(audio[None], signal_len)\n",
    "text_pred, logits = stt(model, audio, return_logits=True)\n",
    "\n",
    "fig, (axl, axr) = plt.subplots(1, 2, figsize=(9, 3))\n",
    "axl.imshow(mel[0].cpu(), aspect='auto', origin='lower', interpolation='none')\n",
    "axr.imshow(logits[0].cpu().t(), aspect='auto', origin='lower', interpolation='none')\n",
    "\n",
    "print(list(enumerate(letters_ds_voc)))"
   ]
  }
 ],
 "metadata": {
  "kernelspec": {
   "display_name": "base",
   "language": "python",
   "name": "python3"
  },
  "language_info": {
   "codemirror_mode": {
    "name": "ipython",
    "version": 3
   },
   "file_extension": ".py",
   "mimetype": "text/x-python",
   "name": "python",
   "nbconvert_exporter": "python",
   "pygments_lexer": "ipython3",
   "version": "3.9.12"
  }
 },
 "nbformat": 4,
 "nbformat_minor": 2
}
